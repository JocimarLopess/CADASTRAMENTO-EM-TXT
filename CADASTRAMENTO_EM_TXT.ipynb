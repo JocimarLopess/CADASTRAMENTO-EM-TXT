{
  "nbformat": 4,
  "nbformat_minor": 0,
  "metadata": {
    "colab": {
      "name": "CADASTRAMENTO EM TXT.ipynb",
      "provenance": [],
      "authorship_tag": "ABX9TyOot8bMYSOkcDZMUaT1Qxxc",
      "include_colab_link": true
    },
    "kernelspec": {
      "name": "python3",
      "display_name": "Python 3"
    },
    "language_info": {
      "name": "python"
    }
  },
  "cells": [
    {
      "cell_type": "markdown",
      "metadata": {
        "id": "view-in-github",
        "colab_type": "text"
      },
      "source": [
        "<a href=\"https://colab.research.google.com/github/JocimarLopess/CADASTRAMENTO-EM-TXT/blob/main/CADASTRAMENTO_EM_TXT.ipynb\" target=\"_parent\"><img src=\"https://colab.research.google.com/assets/colab-badge.svg\" alt=\"Open In Colab\"/></a>"
      ]
    },
    {
      "cell_type": "markdown",
      "source": [
        "CADASTRAMENTO DE JOGOS EM TXT"
      ],
      "metadata": {
        "id": "A9u4CZf8_0bJ"
      }
    },
    {
      "cell_type": "code",
      "execution_count": null,
      "metadata": {
        "id": "xM0LPXV1_nsO"
      },
      "outputs": [],
      "source": [
        "def valida_int(pergunta, min, max):\n",
        "    x = int(input(pergunta))\n",
        "    while ((x < min) or (x > max)):\n",
        "        x = int(input(pergunta))\n",
        "    return x\n",
        "\n",
        "def criaArquivo(nomeArquivo):\n",
        "    try:\n",
        "        a = open(nomeArquivo, 'wt+')\n",
        "        a.close()\n",
        "    except:\n",
        "        print('Erro na criação do arquivo')\n",
        "    else:\n",
        "        print('Arquivo {} foi criado com sucesso!\\n'.format(nomeArquivo))\n",
        "\n",
        "def existeArquivo(nomeArquivo):\n",
        "    try:\n",
        "        a = open(nomeArquivo, 'rt')\n",
        "        a.close()\n",
        "    except FileNotFoundError:\n",
        "        return False\n",
        "    else:\n",
        "        return True\n",
        "\n",
        "def listarArquivo(nomeArquivo):\n",
        "    try:\n",
        "        a = open(nomeArquivo, 'rt')\n",
        "    except:\n",
        "        print('Erro ao ler o arquivo')\n",
        "    else:\n",
        "        print(a.read())\n",
        "    finally:\n",
        "        a.close()\n",
        "\n",
        "\n",
        "def cadastrarJogo(nomeArquivo, nomeJogo, nomeVidegame):\n",
        "    try:\n",
        "        a = open(nomeArquivo, 'at')\n",
        "    except:\n",
        "        print('Erro ao abrir o arquivo')\n",
        "    else:\n",
        "        a.write('{};{}\\n'.format(nomeJogo,nomeVidegame))\n",
        "    finally:\n",
        "        a.close()\n",
        "\n",
        "#programa principal\n",
        "arquivo = 'games.txt'\n",
        "if existeArquivo(arquivo):\n",
        "    print('Arquivo localizado no computador')\n",
        "else:\n",
        "    print('Arquivo inexistente!')\n",
        "    criaArquivo(arquivo)\n",
        "\n",
        "while True:\n",
        "    print('MENU')\n",
        "    print('1 - Cadastrar novo item')\n",
        "    print('2 - Listar cadastros')\n",
        "    print('3 - Sair')\n",
        "\n",
        "    op = valida_int('Escolha a opção desejada: ', 1, 3)\n",
        "    if op == 1:\n",
        "        print('Opção de cadastrar novo item selecionando...\\n')\n",
        "        nomeJogo = input('Nome do jogo: ')\n",
        "        nomeVidegame = input('Nome do videgame: ')\n",
        "        cadastrarJogo(arquivo, nomeJogo, nomeVidegame)\n",
        "    elif op == 2:\n",
        "        print('Opção de selecionada...\\n')\n",
        "        listarArquivo(arquivo)\n",
        "    elif op == 3:\n",
        "        print('Encerrando o programa...')\n",
        "        break"
      ]
    }
  ]
}